{
 "cells": [
  {
   "cell_type": "markdown",
   "metadata": {},
   "source": [
    "# BATCH GRADIENT DESCENT"
   ]
  },
  {
   "cell_type": "code",
   "execution_count": 1,
   "metadata": {},
   "outputs": [],
   "source": [
    "# importing all necessary packages\n",
    "import numpy as np\n",
    "import pandas as pd\n",
    "import matplotlib.pyplot as plt\n",
    "import seaborn as sns\n",
    "from sklearn.preprocessing import minmax_scale"
   ]
  },
  {
   "cell_type": "code",
   "execution_count": 3,
   "metadata": {},
   "outputs": [
    {
     "name": "stdout",
     "output_type": "stream",
     "text": [
      "*** No CODEPAGE record, no encoding_override: will use 'ascii'\n"
     ]
    },
    {
     "data": {
      "text/html": [
       "<div>\n",
       "<style scoped>\n",
       "    .dataframe tbody tr th:only-of-type {\n",
       "        vertical-align: middle;\n",
       "    }\n",
       "\n",
       "    .dataframe tbody tr th {\n",
       "        vertical-align: top;\n",
       "    }\n",
       "\n",
       "    .dataframe thead th {\n",
       "        text-align: right;\n",
       "    }\n",
       "</style>\n",
       "<table border=\"1\" class=\"dataframe\">\n",
       "  <thead>\n",
       "    <tr style=\"text-align: right;\">\n",
       "      <th></th>\n",
       "      <th>X</th>\n",
       "      <th>Y</th>\n",
       "    </tr>\n",
       "  </thead>\n",
       "  <tbody>\n",
       "    <tr>\n",
       "      <th>0</th>\n",
       "      <td>75.1</td>\n",
       "      <td>577.8</td>\n",
       "    </tr>\n",
       "    <tr>\n",
       "      <th>1</th>\n",
       "      <td>74.3</td>\n",
       "      <td>577.0</td>\n",
       "    </tr>\n",
       "    <tr>\n",
       "      <th>2</th>\n",
       "      <td>88.7</td>\n",
       "      <td>570.9</td>\n",
       "    </tr>\n",
       "    <tr>\n",
       "      <th>3</th>\n",
       "      <td>114.6</td>\n",
       "      <td>578.6</td>\n",
       "    </tr>\n",
       "    <tr>\n",
       "      <th>4</th>\n",
       "      <td>98.5</td>\n",
       "      <td>572.4</td>\n",
       "    </tr>\n",
       "  </tbody>\n",
       "</table>\n",
       "</div>"
      ],
      "text/plain": [
       "       X      Y\n",
       "0   75.1  577.8\n",
       "1   74.3  577.0\n",
       "2   88.7  570.9\n",
       "3  114.6  578.6\n",
       "4   98.5  572.4"
      ]
     },
     "execution_count": 3,
     "metadata": {},
     "output_type": "execute_result"
    }
   ],
   "source": [
    "# READING THE  DATA SET\n",
    "data = pd.read_excel(r\"C:\\Users\\SAIDEEPTHI\\Downloads\\pressure_weight.xls\")\n",
    "data.head()"
   ]
  },
  {
   "cell_type": "markdown",
   "metadata": {},
   "source": [
    "# DATA ANALYSIS AND VISUALISATION"
   ]
  },
  {
   "cell_type": "code",
   "execution_count": 5,
   "metadata": {},
   "outputs": [
    {
     "name": "stdout",
     "output_type": "stream",
     "text": [
      "<class 'pandas.core.frame.DataFrame'>\n",
      "RangeIndex: 30 entries, 0 to 29\n",
      "Data columns (total 2 columns):\n",
      " #   Column  Non-Null Count  Dtype  \n",
      "---  ------  --------------  -----  \n",
      " 0   X       30 non-null     float64\n",
      " 1   Y       30 non-null     float64\n",
      "dtypes: float64(2)\n",
      "memory usage: 608.0 bytes\n"
     ]
    }
   ],
   "source": [
    "data.info()"
   ]
  },
  {
   "cell_type": "code",
   "execution_count": 6,
   "metadata": {},
   "outputs": [
    {
     "data": {
      "text/html": [
       "<div>\n",
       "<style scoped>\n",
       "    .dataframe tbody tr th:only-of-type {\n",
       "        vertical-align: middle;\n",
       "    }\n",
       "\n",
       "    .dataframe tbody tr th {\n",
       "        vertical-align: top;\n",
       "    }\n",
       "\n",
       "    .dataframe thead th {\n",
       "        text-align: right;\n",
       "    }\n",
       "</style>\n",
       "<table border=\"1\" class=\"dataframe\">\n",
       "  <thead>\n",
       "    <tr style=\"text-align: right;\">\n",
       "      <th></th>\n",
       "      <th>X</th>\n",
       "      <th>Y</th>\n",
       "    </tr>\n",
       "  </thead>\n",
       "  <tbody>\n",
       "    <tr>\n",
       "      <th>count</th>\n",
       "      <td>30.000000</td>\n",
       "      <td>30.000000</td>\n",
       "    </tr>\n",
       "    <tr>\n",
       "      <th>mean</th>\n",
       "      <td>90.273333</td>\n",
       "      <td>514.963333</td>\n",
       "    </tr>\n",
       "    <tr>\n",
       "      <th>std</th>\n",
       "      <td>16.986078</td>\n",
       "      <td>39.535096</td>\n",
       "    </tr>\n",
       "    <tr>\n",
       "      <th>min</th>\n",
       "      <td>62.200000</td>\n",
       "      <td>406.700000</td>\n",
       "    </tr>\n",
       "    <tr>\n",
       "      <th>25%</th>\n",
       "      <td>75.300000</td>\n",
       "      <td>505.250000</td>\n",
       "    </tr>\n",
       "    <tr>\n",
       "      <th>50%</th>\n",
       "      <td>89.150000</td>\n",
       "      <td>510.100000</td>\n",
       "    </tr>\n",
       "    <tr>\n",
       "      <th>75%</th>\n",
       "      <td>104.375000</td>\n",
       "      <td>519.850000</td>\n",
       "    </tr>\n",
       "    <tr>\n",
       "      <th>max</th>\n",
       "      <td>120.000000</td>\n",
       "      <td>578.600000</td>\n",
       "    </tr>\n",
       "  </tbody>\n",
       "</table>\n",
       "</div>"
      ],
      "text/plain": [
       "                X           Y\n",
       "count   30.000000   30.000000\n",
       "mean    90.273333  514.963333\n",
       "std     16.986078   39.535096\n",
       "min     62.200000  406.700000\n",
       "25%     75.300000  505.250000\n",
       "50%     89.150000  510.100000\n",
       "75%    104.375000  519.850000\n",
       "max    120.000000  578.600000"
      ]
     },
     "execution_count": 6,
     "metadata": {},
     "output_type": "execute_result"
    }
   ],
   "source": [
    "data.describe()"
   ]
  },
  {
   "cell_type": "markdown",
   "metadata": {},
   "source": [
    "NULL value Treatment"
   ]
  },
  {
   "cell_type": "code",
   "execution_count": 7,
   "metadata": {},
   "outputs": [
    {
     "data": {
      "text/plain": [
       "X    0\n",
       "Y    0\n",
       "dtype: int64"
      ]
     },
     "execution_count": 7,
     "metadata": {},
     "output_type": "execute_result"
    }
   ],
   "source": [
    "data.isnull().sum()"
   ]
  },
  {
   "cell_type": "markdown",
   "metadata": {},
   "source": [
    "no null values"
   ]
  },
  {
   "cell_type": "markdown",
   "metadata": {},
   "source": [
    "# Outliers Treatment"
   ]
  },
  {
   "cell_type": "code",
   "execution_count": 9,
   "metadata": {},
   "outputs": [
    {
     "data": {
      "text/plain": [
       "<matplotlib.axes._subplots.AxesSubplot at 0x230d8089ee0>"
      ]
     },
     "execution_count": 9,
     "metadata": {},
     "output_type": "execute_result"
    },
    {
     "data": {
      "image/png": "[encoded data removed]",
      "text/plain": [
       "<Figure size 432x288 with 1 Axes>"
      ]
     },
     "metadata": {
      "needs_background": "light"
     },
     "output_type": "display_data"
    }
   ],
   "source": [
    "sns.boxplot(x=data['X'])"
   ]
  },
  {
   "cell_type": "code",
   "execution_count": 10,
   "metadata": {},
   "outputs": [
    {
     "data": {
      "text/plain": [
       "<matplotlib.axes._subplots.AxesSubplot at 0x230d80f48e0>"
      ]
     },
     "execution_count": 10,
     "metadata": {},
     "output_type": "execute_result"
    },
    {
     "data": {
      "image/png": "[encoded data removed]",
      "text/plain": [
       "<Figure size 432x288 with 1 Axes>"
      ]
     },
     "metadata": {
      "needs_background": "light"
     },
     "output_type": "display_data"
    }
   ],
   "source": [
    "sns.boxplot(x=data['Y'])"
   ]
  },
  {
   "cell_type": "markdown",
   "metadata": {},
   "source": [
    "There are some outliers,removing them using\n",
    "1.z-score 2.ITQ"
   ]
  },
  {
   "cell_type": "code",
   "execution_count": 12,
   "metadata": {},
   "outputs": [
    {
     "name": "stdout",
     "output_type": "stream",
     "text": [
      "[[0.90855142 1.61656054]\n",
      " [0.95645395 1.59597943]\n",
      " [0.09420832 1.43904846]\n",
      " [1.45663625 1.63714165]\n",
      " [0.49259774 1.47763804]\n",
      " [1.30095302 2.6694559 ]\n",
      " [1.46861189 0.430574  ]\n",
      " [1.68097979 1.25896373]\n",
      " [1.00156217 2.78522465]\n",
      " [0.01357238 0.20229517]\n",
      " [0.98639304 0.47756754]\n",
      " [1.52849006 0.25117531]\n",
      " [0.54648809 0.22030365]\n",
      " [0.16326781 0.12254337]\n",
      " [0.98040522 0.28461962]\n",
      " [1.4714062  0.22544892]\n",
      " [1.44146712 0.22287629]\n",
      " [0.74089254 0.12254337]\n",
      " [1.16922104 0.16370559]\n",
      " [0.9057571  0.10453489]\n",
      " [0.10019614 0.24603004]\n",
      " [0.04031797 0.05565476]\n",
      " [0.98639304 0.31291865]\n",
      " [0.66025661 0.56503726]\n",
      " [1.77997837 0.10710753]\n",
      " [0.86064888 0.05565476]\n",
      " [0.84268543 0.04021892]\n",
      " [0.50137987 0.12768865]\n",
      " [0.35767226 0.27432906]\n",
      " [0.46265865 0.18102803]]\n"
     ]
    }
   ],
   "source": [
    "# Z-SCORE\n",
    "from scipy import stats\n",
    "import numpy as np\n",
    "z = np.abs(stats.zscore(data))\n",
    "print(z)"
   ]
  },
  {
   "cell_type": "code",
   "execution_count": 13,
   "metadata": {},
   "outputs": [
    {
     "name": "stdout",
     "output_type": "stream",
     "text": [
      "(array([], dtype=int64), array([], dtype=int64))\n"
     ]
    }
   ],
   "source": [
    "threshold = 3\n",
    "print(np.where(z > 3))"
   ]
  },
  {
   "cell_type": "markdown",
   "metadata": {},
   "source": [
    "no outliners are found using Z-score test"
   ]
  },
  {
   "cell_type": "code",
   "execution_count": 14,
   "metadata": {},
   "outputs": [
    {
     "data": {
      "text/plain": [
       "<matplotlib.collections.PathCollection at 0x230d818a640>"
      ]
     },
     "execution_count": 14,
     "metadata": {},
     "output_type": "execute_result"
    },
    {
     "data": {
      "image/png": "[encoded data removed]",
      "text/plain": [
       "<Figure size 432x288 with 1 Axes>"
      ]
     },
     "metadata": {
      "needs_background": "light"
     },
     "output_type": "display_data"
    }
   ],
   "source": [
    "# Visualising data points using a Scatter plot\n",
    "plt.scatter(data['X'],data['Y'])"
   ]
  },
  {
   "cell_type": "code",
   "execution_count": 15,
   "metadata": {},
   "outputs": [
    {
     "data": {
      "text/plain": [
       "X    29.075\n",
       "Y    14.600\n",
       "dtype: float64"
      ]
     },
     "execution_count": 15,
     "metadata": {},
     "output_type": "execute_result"
    }
   ],
   "source": [
    "# Implementing ITQ\n",
    "q1 = data.quantile(0.25)\n",
    "q3 = data.quantile(0.75)\n",
    "iqr = q3 - q1\n",
    "iqr"
   ]
  },
  {
   "cell_type": "code",
   "execution_count": 16,
   "metadata": {},
   "outputs": [
    {
     "data": {
      "text/plain": [
       "(30, 2)"
      ]
     },
     "execution_count": 16,
     "metadata": {},
     "output_type": "execute_result"
    }
   ],
   "source": [
    "data.shape"
   ]
  },
  {
   "cell_type": "code",
   "execution_count": 17,
   "metadata": {},
   "outputs": [
    {
     "data": {
      "text/plain": [
       "(22, 2)"
      ]
     },
     "execution_count": 17,
     "metadata": {},
     "output_type": "execute_result"
    }
   ],
   "source": [
    "data_cleared = data[~((data < (q1 - 1.5 * iqr)) |(data > (q3 + 1.5 * iqr))).any(axis=1)]\n",
    "data_cleared.shape"
   ]
  },
  {
   "cell_type": "markdown",
   "metadata": {},
   "source": [
    "After implementing ITQ, 8 rows are treated as outliners and those are ignored from dataset"
   ]
  },
  {
   "cell_type": "code",
   "execution_count": 18,
   "metadata": {},
   "outputs": [
    {
     "data": {
      "text/plain": [
       "<matplotlib.axes._subplots.AxesSubplot at 0x230d81ec970>"
      ]
     },
     "execution_count": 18,
     "metadata": {},
     "output_type": "execute_result"
    },
    {
     "data": {
      "image/png": "[encoded data removed]",
      "text/plain": [
       "<Figure size 432x288 with 1 Axes>"
      ]
     },
     "metadata": {
      "needs_background": "light"
     },
     "output_type": "display_data"
    }
   ],
   "source": [
    "sns.boxplot(x=data_cleared['X'])"
   ]
  },
  {
   "cell_type": "code",
   "execution_count": 19,
   "metadata": {},
   "outputs": [
    {
     "data": {
      "text/plain": [
       "<matplotlib.axes._subplots.AxesSubplot at 0x230d8267070>"
      ]
     },
     "execution_count": 19,
     "metadata": {},
     "output_type": "execute_result"
    },
    {
     "data": {
      "image/png": "[encoded data removed]",
      "text/plain": [
       "<Figure size 432x288 with 1 Axes>"
      ]
     },
     "metadata": {
      "needs_background": "light"
     },
     "output_type": "display_data"
    }
   ],
   "source": [
    "# outliners are reduced\n",
    "sns.boxplot(x=data_cleared['Y'])"
   ]
  },
  {
   "cell_type": "code",
   "execution_count": 20,
   "metadata": {},
   "outputs": [
    {
     "data": {
      "text/plain": [
       "<matplotlib.collections.PathCollection at 0x230d82e8dc0>"
      ]
     },
     "execution_count": 20,
     "metadata": {},
     "output_type": "execute_result"
    },
    {
     "data": {
      "image/png": "[encoded data removed]",
      "text/plain": [
       "<Figure size 432x288 with 1 Axes>"
      ]
     },
     "metadata": {
      "needs_background": "light"
     },
     "output_type": "display_data"
    }
   ],
   "source": [
    "# scatter plot of data before data clean\n",
    "plt.scatter(data['X'],data['Y'])"
   ]
  },
  {
   "cell_type": "code",
   "execution_count": 21,
   "metadata": {},
   "outputs": [
    {
     "data": {
      "text/plain": [
       "<matplotlib.collections.PathCollection at 0x230d834a3a0>"
      ]
     },
     "execution_count": 21,
     "metadata": {},
     "output_type": "execute_result"
    },
    {
     "data": {
      "image/png": "[encoded data removed]",
      "text/plain": [
       "<Figure size 432x288 with 1 Axes>"
      ]
     },
     "metadata": {
      "needs_background": "light"
     },
     "output_type": "display_data"
    }
   ],
   "source": [
    "#scatter plot of data after data clean\n",
    "plt.scatter(data_cleared['X'],data_cleared['Y'])"
   ]
  },
  {
   "cell_type": "code",
   "execution_count": 23,
   "metadata": {},
   "outputs": [],
   "source": [
    "data2 = data.copy()\n",
    "data = data_cleared.copy()"
   ]
  },
  {
   "cell_type": "code",
   "execution_count": 24,
   "metadata": {},
   "outputs": [],
   "source": [
    "from sklearn.model_selection import train_test_split"
   ]
  },
  {
   "cell_type": "markdown",
   "metadata": {},
   "source": [
    "Normalisation Of Data Set"
   ]
  },
  {
   "cell_type": "code",
   "execution_count": 25,
   "metadata": {},
   "outputs": [
    {
     "data": {
      "text/plain": [
       "[[0.45672191528545114, 0.364341085271318],\n",
       " [0.14917127071823194, 0.08785529715762205],\n",
       " [0.9226519337016574, 0.31524547803617503],\n",
       " [0.6206261510128914, 0.3462532299741592],\n",
       " [0.5027624309392265, 0.44444444444444364],\n",
       " [0.15101289134438312, 0.2816537467700249],\n",
       " [0.0, 0.3410852713178288],\n",
       " [0.009208103130755065, 0.34366925064599474],\n",
       " [0.22467771639042364, 0.44444444444444364]]"
      ]
     },
     "execution_count": 25,
     "metadata": {},
     "output_type": "execute_result"
    }
   ],
   "source": [
    "data_x = data['X']\n",
    "data_y = data['Y']\n",
    "\n",
    "# normalising the data\n",
    "data_x = (data_x - data_x.min())/(data_x.max() - data_x.min())\n",
    "data_y = (data_y - data_y.min())/(data_y.max() - data_y.min())\n",
    "data_x\n",
    "\n",
    "data_x = np.array(data_x)\n",
    "data_y = np.array(data_y)\n",
    "datas =[]\n",
    "for i in range(len(data_x)):\n",
    "  datas.append([data_x[i],data_y[i]])\n",
    "\n",
    "datas[1:10]"
   ]
  },
  {
   "cell_type": "code",
   "execution_count": 26,
   "metadata": {},
   "outputs": [],
   "source": [
    "# splitting of data set into training and testing\n",
    "data_train,data_test = train_test_split(datas,test_size=0.1)"
   ]
  },
  {
   "cell_type": "code",
   "execution_count": 27,
   "metadata": {},
   "outputs": [
    {
     "data": {
      "text/plain": [
       "[[0.14917127071823194, 0.2532299741602067],\n",
       " [0.009208103130755065, 0.34366925064599474],\n",
       " [0.0, 0.3410852713178288],\n",
       " [0.45672191528545114, 0.364341085271318],\n",
       " [0.5027624309392265, 0.44444444444444364],\n",
       " [0.22467771639042364, 0.44444444444444364],\n",
       " [0.44014732965009196, 0.5116279069767424],\n",
       " [0.19337016574585636, 0.5271317829457353],\n",
       " [0.4217311233885818, 0.3204134366925055],\n",
       " [1.0, 0.4599483204134365],\n",
       " [0.29834254143646416, 0.4392764857881132],\n",
       " [0.1878453038674034, 0.5116279069767424],\n",
       " [0.6556169429097605, 0.0],\n",
       " [0.9226519337016574, 0.31524547803617503],\n",
       " [0.7311233885819522, 0.4625322997416009],\n",
       " [0.8121546961325966, 0.40310077519379856],\n",
       " [0.5948434622467771, 0.7493540051679578],\n",
       " [0.6206261510128914, 0.3462532299741592],\n",
       " [0.3425414364640883, 0.2919896640826873]]"
      ]
     },
     "execution_count": 27,
     "metadata": {},
     "output_type": "execute_result"
    }
   ],
   "source": [
    "data_train"
   ]
  },
  {
   "cell_type": "markdown",
   "metadata": {},
   "source": [
    "Ready To Train The Model"
   ]
  },
  {
   "cell_type": "code",
   "execution_count": 29,
   "metadata": {},
   "outputs": [
    {
     "data": {
      "text/plain": [
       "[[0.14917127071823194, 0.2532299741602067],\n",
       " [0.009208103130755065, 0.34366925064599474],\n",
       " [0.0, 0.3410852713178288],\n",
       " [0.45672191528545114, 0.364341085271318],\n",
       " [0.5027624309392265, 0.44444444444444364],\n",
       " [0.22467771639042364, 0.44444444444444364],\n",
       " [0.44014732965009196, 0.5116279069767424],\n",
       " [0.19337016574585636, 0.5271317829457353],\n",
       " [0.4217311233885818, 0.3204134366925055],\n",
       " [1.0, 0.4599483204134365],\n",
       " [0.29834254143646416, 0.4392764857881132],\n",
       " [0.1878453038674034, 0.5116279069767424],\n",
       " [0.6556169429097605, 0.0],\n",
       " [0.9226519337016574, 0.31524547803617503],\n",
       " [0.7311233885819522, 0.4625322997416009],\n",
       " [0.8121546961325966, 0.40310077519379856],\n",
       " [0.5948434622467771, 0.7493540051679578],\n",
       " [0.6206261510128914, 0.3462532299741592],\n",
       " [0.3425414364640883, 0.2919896640826873]]"
      ]
     },
     "execution_count": 29,
     "metadata": {},
     "output_type": "execute_result"
    }
   ],
   "source": [
    "#STEP 2: initialising required parameters\n",
    "m = 1\n",
    "c = -1\n",
    "iter = 1\n",
    "epochs = 300\n",
    "alpha = 0.1\n",
    "error = []\n",
    "data_train"
   ]
  },
  {
   "cell_type": "markdown",
   "metadata": {},
   "source": [
    "# Gradient Descent Algorithm"
   ]
  },
  {
   "cell_type": "code",
   "execution_count": 30,
   "metadata": {},
   "outputs": [],
   "source": [
    "# while loop is runned until iter reaches epochs\n",
    "while (iter<=epochs):\n",
    "  # running for loop to calculate and update model parameters for each sample\n",
    "  der_m = 0\n",
    "  der_c = 0\n",
    "  err = 0\n",
    "  for i in range(0,len(data_train)):\n",
    "    # calculating derivatives of m and c\n",
    "    der_m += ((data_train[i][1] - (m * data_train[i][0]) - c ))*(data_train[i][0])\n",
    "    der_c +=  (data_train[i][1] - (m * data_train[i][0]) - c )\n",
    "\n",
    "  # computing error rate with present m and c values \n",
    "  err = (der_c)**2\n",
    "  err = (err)/(2*len(data_train))\n",
    "  error.append(err)\n",
    "\n",
    "\n",
    "  der_m = (-1)*(1/len(data_train))*der_m\n",
    "  der_c = (-1)*(1/len(data_train))*der_c\n",
    "\n",
    "  # calculating change in m and c\n",
    "  change_m = (-1)*alpha*der_m\n",
    "  change_c = (-1)*alpha*der_c\n",
    "\n",
    "  #updating m and c\n",
    "  m = m + change_m\n",
    "  c = c + change_c\n",
    "\n",
    "\n",
    "  #incrementing no of iterations\n",
    "  iter = iter + 1"
   ]
  },
  {
   "cell_type": "code",
   "execution_count": 31,
   "metadata": {},
   "outputs": [
    {
     "name": "stdout",
     "output_type": "stream",
     "text": [
      "0.18510212858019362 0.3069958921015323\n"
     ]
    }
   ],
   "source": [
    "# computed slope and y-intercept\n",
    "print(m,c)"
   ]
  },
  {
   "cell_type": "code",
   "execution_count": 32,
   "metadata": {},
   "outputs": [
    {
     "name": "stdout",
     "output_type": "stream",
     "text": [
      "[0.15101289 0.90423573 0.14917127]\n"
     ]
    },
    {
     "data": {
      "text/plain": [
       "array([0.28165375, 1.        , 0.0878553 ])"
      ]
     },
     "execution_count": 32,
     "metadata": {},
     "output_type": "execute_result"
    }
   ],
   "source": [
    "data_test = np.array(data_test)\n",
    "data_test_x = data_test[:,0]\n",
    "print(data_test_x)\n",
    "data_test_y = data_test[:,1]\n",
    "data_test_y"
   ]
  },
  {
   "cell_type": "code",
   "execution_count": 34,
   "metadata": {},
   "outputs": [
    {
     "name": "stdout",
     "output_type": "stream",
     "text": [
      "0.3349486997324271\n",
      "0.4743718499889633\n",
      "0.3346078118344893\n"
     ]
    }
   ],
   "source": [
    "# predicting results of test data set\n",
    "pred = []\n",
    "for i in range(len(data_test_x)):\n",
    "    print((m*data_test_x[i]) +c)\n",
    "    pred.append((m*data_test_x[i]) +c)"
   ]
  },
  {
   "cell_type": "markdown",
   "metadata": {},
   "source": [
    "# Mean Square error of testing data"
   ]
  },
  {
   "cell_type": "code",
   "execution_count": 36,
   "metadata": {},
   "outputs": [
    {
     "data": {
      "text/plain": [
       "0.1133373691982157"
      ]
     },
     "execution_count": 36,
     "metadata": {},
     "output_type": "execute_result"
    }
   ],
   "source": [
    "# computig mean squared error of testing data\n",
    "mse = 0\n",
    "for i in range(0,len(data_test)):\n",
    "    mse += (data_test[i][1] - (m*data_test[i][0]) - c)**2\n",
    "mse = mse/len(data_test)\n",
    "mse"
   ]
  },
  {
   "cell_type": "markdown",
   "metadata": {},
   "source": [
    "# Predicted Data Visualisation"
   ]
  },
  {
   "cell_type": "code",
   "execution_count": 37,
   "metadata": {},
   "outputs": [
    {
     "data": {
      "image/png": "[encoded data removed]",
      "text/plain": [
       "<Figure size 432x288 with 1 Axes>"
      ]
     },
     "metadata": {
      "needs_background": "light"
     },
     "output_type": "display_data"
    }
   ],
   "source": [
    "plt.scatter(data_test_x,data_test_y,label=\"Original Data points\")\n",
    "plt.plot(data_test_x,pred,'r',label=\"predicted regression line\")\n",
    "plt.title(\"Linear Regression using Batch Gradient Descent\")\n",
    "plt.xlabel(\"Data x\")\n",
    "plt.ylabel(\"Data y\")\n",
    "plt.grid()\n",
    "plt.legend()\n",
    "plt.show()"
   ]
  },
  {
   "cell_type": "code",
   "execution_count": 38,
   "metadata": {},
   "outputs": [
    {
     "data": {
      "text/plain": [
       "0     0.334608\n",
       "1     0.308700\n",
       "2     0.306996\n",
       "3     0.391536\n",
       "4     0.400058\n",
       "5     0.348584\n",
       "6     0.388468\n",
       "7     0.342789\n",
       "8     0.385059\n",
       "9     0.492098\n",
       "10    0.362220\n",
       "11    0.341766\n",
       "12    0.428352\n",
       "13    0.477781\n",
       "14    0.442328\n",
       "15    0.457327\n",
       "16    0.417103\n",
       "17    0.421875\n",
       "18    0.370401\n",
       "Name: 0, dtype: float64"
      ]
     },
     "execution_count": 38,
     "metadata": {},
     "output_type": "execute_result"
    }
   ],
   "source": [
    "data_train = pd.DataFrame(data_train)\n",
    "\n",
    "data_train_pred = m*data_train[0] + c\n",
    "data_train_pred"
   ]
  },
  {
   "cell_type": "code",
   "execution_count": 39,
   "metadata": {},
   "outputs": [
    {
     "data": {
      "image/png": "[encoded data removed]",
      "text/plain": [
       "<Figure size 432x288 with 1 Axes>"
      ]
     },
     "metadata": {
      "needs_background": "light"
     },
     "output_type": "display_data"
    }
   ],
   "source": [
    "plt.plot(data_train[0],data_train_pred,'red',label=\"Regression Line\")\n",
    "plt.scatter(data_train[0],data_train[1],label=\"original data points\")\n",
    "plt.xlabel(\"Pressure\")\n",
    "plt.ylabel(\"Weight of Liquid Nitrogen\")\n",
    "plt.legend()\n",
    "plt.grid()\n",
    "plt.title(\"Training Results Analysis\")\n",
    "plt.show()\n",
    "%matplotlib inline"
   ]
  },
  {
   "cell_type": "code",
   "execution_count": 40,
   "metadata": {},
   "outputs": [
    {
     "data": {
      "text/html": [
       "<div>\n",
       "<style scoped>\n",
       "    .dataframe tbody tr th:only-of-type {\n",
       "        vertical-align: middle;\n",
       "    }\n",
       "\n",
       "    .dataframe tbody tr th {\n",
       "        vertical-align: top;\n",
       "    }\n",
       "\n",
       "    .dataframe thead th {\n",
       "        text-align: right;\n",
       "    }\n",
       "</style>\n",
       "<table border=\"1\" class=\"dataframe\">\n",
       "  <thead>\n",
       "    <tr style=\"text-align: right;\">\n",
       "      <th></th>\n",
       "      <th>0</th>\n",
       "      <th>1</th>\n",
       "    </tr>\n",
       "  </thead>\n",
       "  <tbody>\n",
       "    <tr>\n",
       "      <th>0</th>\n",
       "      <td>0.149171</td>\n",
       "      <td>0.253230</td>\n",
       "    </tr>\n",
       "    <tr>\n",
       "      <th>1</th>\n",
       "      <td>0.009208</td>\n",
       "      <td>0.343669</td>\n",
       "    </tr>\n",
       "    <tr>\n",
       "      <th>2</th>\n",
       "      <td>0.000000</td>\n",
       "      <td>0.341085</td>\n",
       "    </tr>\n",
       "    <tr>\n",
       "      <th>3</th>\n",
       "      <td>0.456722</td>\n",
       "      <td>0.364341</td>\n",
       "    </tr>\n",
       "    <tr>\n",
       "      <th>4</th>\n",
       "      <td>0.502762</td>\n",
       "      <td>0.444444</td>\n",
       "    </tr>\n",
       "  </tbody>\n",
       "</table>\n",
       "</div>"
      ],
      "text/plain": [
       "          0         1\n",
       "0  0.149171  0.253230\n",
       "1  0.009208  0.343669\n",
       "2  0.000000  0.341085\n",
       "3  0.456722  0.364341\n",
       "4  0.502762  0.444444"
      ]
     },
     "execution_count": 40,
     "metadata": {},
     "output_type": "execute_result"
    }
   ],
   "source": [
    "data_train.head()"
   ]
  },
  {
   "cell_type": "markdown",
   "metadata": {},
   "source": [
    "# Error Rate Analysis"
   ]
  },
  {
   "cell_type": "code",
   "execution_count": 41,
   "metadata": {},
   "outputs": [
    {
     "data": {
      "image/png": "[encoded data removed]",
      "text/plain": [
       "<Figure size 432x288 with 1 Axes>"
      ]
     },
     "metadata": {
      "needs_background": "light"
     },
     "output_type": "display_data"
    }
   ],
   "source": [
    "iters = np.arange(epochs)\n",
    "plt.plot(iters,error,color='m',label=\"error rate at ith iteration\")\n",
    "plt.legend()\n",
    "plt.xlabel(\"Number of iteration\")\n",
    "plt.ylabel(\"Error Rate at particular Iteration\")\n",
    "plt.title(\"Error Analysis\")\n",
    "plt.grid()\n",
    "plt.show()"
   ]
  },
  {
   "cell_type": "markdown",
   "metadata": {},
   "source": [
    "# Mean Square Error Of Training Data"
   ]
  },
  {
   "cell_type": "code",
   "execution_count": 42,
   "metadata": {},
   "outputs": [
    {
     "data": {
      "text/plain": [
       "0.02345104484988352"
      ]
     },
     "execution_count": 42,
     "metadata": {},
     "output_type": "execute_result"
    }
   ],
   "source": [
    "# computig mean squared error\n",
    "mse = 0\n",
    "mse = (data_train[1] - m*data_train[0] - c)**2\n",
    "mse.sum()/len(data_train)"
   ]
  },
  {
   "cell_type": "code",
   "execution_count": 43,
   "metadata": {},
   "outputs": [
    {
     "name": "stdout",
     "output_type": "stream",
     "text": [
      "62.2 406.7 120.0 578.6\n"
     ]
    }
   ],
   "source": [
    "min_x = data2['X'].min()\n",
    "max_x = data2['X'].max()\n",
    "min_y = data2['Y'].min()\n",
    "max_y = data2['Y'].max()\n",
    "print(min_x,min_y,max_x,max_y)"
   ]
  },
  {
   "cell_type": "markdown",
   "metadata": {},
   "source": [
    "Model Ready To Take Input and Produce Output"
   ]
  },
  {
   "cell_type": "code",
   "execution_count": 44,
   "metadata": {},
   "outputs": [
    {
     "name": "stdout",
     "output_type": "stream",
     "text": [
      "enter pressure75.1\n"
     ]
    },
    {
     "data": {
      "text/plain": [
       "466.57407864719914"
      ]
     },
     "execution_count": 44,
     "metadata": {},
     "output_type": "execute_result"
    }
   ],
   "source": [
    "input_x = float(input(\"enter pressure\"))\n",
    "input_x = (input_x - min_x)/(max_x - min_x)\n",
    "output_y = m*input_x + c\n",
    "output_y = (output_y)*(max_y - min_y) + min_y\n",
    "output_y"
   ]
  },
  {
   "cell_type": "code",
   "execution_count": 45,
   "metadata": {},
   "outputs": [
    {
     "name": "stdout",
     "output_type": "stream",
     "text": [
      "466.57407864719914 577.8\n",
      "466.13367648937304 577.0\n",
      "474.0609153302428 570.9\n",
      "488.31893518986254 578.6\n",
      "479.4558417636124 572.4\n",
      "486.88762817692776 411.2\n",
      "488.4290357293191 531.7\n",
      "459.4725938522534 563.9\n",
      "484.1351146905147 406.7\n",
      "475.05182018535146 507.1\n",
      "465.85842514073175 496.4\n",
      "488.9795384266017 505.2\n",
      "479.95129419116677 506.4\n",
      "476.428076928558 510.2\n",
      "465.91347541046 503.9\n",
      "461.39935329274255 506.2\n",
      "461.6746046413839 506.3\n",
      "468.11548619959046 510.2\n",
      "485.676522242906 508.6\n",
      "483.2543103748625 510.9\n",
      "474.0058650605145 505.4\n",
      "474.5563677577971 512.8\n",
      "\n",
      " 90345.51348897556\n",
      "4106.614249498889\n"
     ]
    }
   ],
   "source": [
    "err = 0\n",
    "for i in range(0,len(data_x)):\n",
    "  input_x = data2['X'][i]\n",
    "  input_x = (input_x - min_x)/(max_x - min_x)\n",
    "  output_y = m*input_x + c\n",
    "  output_y = (output_y)*(max_y - min_y) + min_y\n",
    "  err += (output_y-data2['Y'][i])**2\n",
    "  print(output_y,data2['Y'][i])\n",
    "\n",
    "print(\"\\n\",err)\n",
    "print(err/len(data_x))"
   ]
  },
  {
   "cell_type": "code",
   "execution_count": null,
   "metadata": {},
   "outputs": [],
   "source": []
  }
 ],
 "metadata": {
  "kernelspec": {
   "display_name": "Python 3",
   "language": "python",
   "name": "python3"
  },
  "language_info": {
   "codemirror_mode": {
    "name": "ipython",
    "version": 3
   },
   "file_extension": ".py",
   "mimetype": "text/x-python",
   "name": "python",
   "nbconvert_exporter": "python",
   "pygments_lexer": "ipython3",
   "version": "3.8.3"
  }
 },
 "nbformat": 4,
 "nbformat_minor": 4
}
