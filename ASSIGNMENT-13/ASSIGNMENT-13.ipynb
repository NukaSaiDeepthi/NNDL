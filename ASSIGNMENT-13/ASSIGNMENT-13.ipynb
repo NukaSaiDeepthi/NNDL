{
 "cells": [
  {
   "cell_type": "markdown",
   "metadata": {},
   "source": [
    "# ADAGRAD"
   ]
  },
  {
   "cell_type": "code",
   "execution_count": 1,
   "metadata": {},
   "outputs": [],
   "source": [
    "import pandas as pd\n",
    "import numpy as np\n",
    "import matplotlib.pyplot as plt\n",
    "import math"
   ]
  },
  {
   "cell_type": "code",
   "execution_count": 2,
   "metadata": {},
   "outputs": [
    {
     "data": {
      "text/plain": [
       "[[0.2, 3.4], [0.4, 3.8], [0.6, 4.2], [0.8, 4.6]]"
      ]
     },
     "execution_count": 2,
     "metadata": {},
     "output_type": "execute_result"
    }
   ],
   "source": [
    "# READING SAMPLE DATA \n",
    "data = [[0.2,3.4],[0.4,3.8],[0.6,4.2],[0.8,4.6]] \n",
    "data"
   ]
  },
  {
   "cell_type": "code",
   "execution_count": 3,
   "metadata": {},
   "outputs": [],
   "source": [
    "data_x = []\n",
    "data_y = []\n",
    "for i in range(len(data)):\n",
    "  data_x.append(data[i][0])\n",
    "  data_y.append(data[i][1])\n",
    "\n",
    "\n",
    "data_x = np.array(data_x)\n",
    "data_y = np.array(data_y)"
   ]
  },
  {
   "cell_type": "code",
   "execution_count": 4,
   "metadata": {},
   "outputs": [],
   "source": [
    "# initalising required variables\n",
    "max_iters=10000\n",
    "m=1.0\n",
    "c=-1.0\n",
    "Gm=0.0\n",
    "Gc=0.0\n",
    "alpha=0.1\n",
    "exp=10**(-8)\n",
    "dm=0.0\n",
    "dc=0.0\n",
    "iter=1\n",
    "error=[]"
   ]
  },
  {
   "cell_type": "markdown",
   "metadata": {},
   "source": [
    "Training the Model"
   ]
  },
  {
   "cell_type": "code",
   "execution_count": 5,
   "metadata": {},
   "outputs": [],
   "source": [
    "while (iter<=max_iters):\n",
    "  err=0.0\n",
    "  for i in range(4):\n",
    "    gm=-1*(data_y[i]-(m*data_x[i])-c)*data_x[i]\n",
    "    gc=-1*(data_y[i]-(m*data_x[i])-c)\n",
    "    err+=(data_y[i]-m*data_x[i]-c)**2\n",
    "    Gm = Gm + (gm**2)\n",
    "    Gc = Gc + (gc**2) \n",
    "    r1 = math.sqrt(Gm + exp)\n",
    "    r2 = math.sqrt(Gc + exp)\n",
    "    dm = -1*(alpha/r1)*gm\n",
    "    dc = -1*(alpha/r2)*gc\n",
    "    m = m + dm\n",
    "    c = c + dc\n",
    "  error.append(err/8)\n",
    "  iter=iter+1"
   ]
  },
  {
   "cell_type": "code",
   "execution_count": 6,
   "metadata": {},
   "outputs": [
    {
     "name": "stdout",
     "output_type": "stream",
     "text": [
      "2.005007496408316 2.997318666748586\n"
     ]
    }
   ],
   "source": [
    "# printing final model parameters\n",
    "print(m,c)"
   ]
  },
  {
   "cell_type": "markdown",
   "metadata": {},
   "source": [
    "calculating mean square error"
   ]
  },
  {
   "cell_type": "code",
   "execution_count": 7,
   "metadata": {},
   "outputs": [
    {
     "name": "stdout",
     "output_type": "stream",
     "text": [
      "1.2852874629737716e-06\n"
     ]
    }
   ],
   "source": [
    "dd = 0\n",
    "for i in range(4):\n",
    "  dd+=(data_y[i]-(m*data_x[i])-c)**2\n",
    "dd = dd/4\n",
    "print(dd)"
   ]
  },
  {
   "cell_type": "markdown",
   "metadata": {},
   "source": [
    "Visualising data and regression line"
   ]
  },
  {
   "cell_type": "code",
   "execution_count": 8,
   "metadata": {},
   "outputs": [
    {
     "data": {
      "image/png": "[encoded data removed]",
      "text/plain": [
       "<Figure size 432x288 with 1 Axes>"
      ]
     },
     "metadata": {
      "needs_background": "light"
     },
     "output_type": "display_data"
    }
   ],
   "source": [
    "plt.scatter(data_x,data_y,label=\"data points\")\n",
    "plt.plot(data_x,m*data_x+c,color='red',label=\"regression line\")\n",
    "plt.title(\"Visualising ADAGRAM\")\n",
    "plt.grid()\n",
    "plt.legend()\n",
    "plt.show()"
   ]
  },
  {
   "cell_type": "markdown",
   "metadata": {},
   "source": [
    "Error rate Analysis"
   ]
  },
  {
   "cell_type": "code",
   "execution_count": 9,
   "metadata": {},
   "outputs": [
    {
     "data": {
      "image/png": "[encoded data removed]",
      "text/plain": [
       "<Figure size 432x288 with 1 Axes>"
      ]
     },
     "metadata": {
      "needs_background": "light"
     },
     "output_type": "display_data"
    }
   ],
   "source": [
    "iters=np.arange(max_iters)\n",
    "plt.plot(iters,error)\n",
    "plt.show()"
   ]
  },
  {
   "cell_type": "code",
   "execution_count": null,
   "metadata": {},
   "outputs": [],
   "source": []
  }
 ],
 "metadata": {
  "kernelspec": {
   "display_name": "Python 3",
   "language": "python",
   "name": "python3"
  },
  "language_info": {
   "codemirror_mode": {
    "name": "ipython",
    "version": 3
   },
   "file_extension": ".py",
   "mimetype": "text/x-python",
   "name": "python",
   "nbconvert_exporter": "python",
   "pygments_lexer": "ipython3",
   "version": "3.8.3"
  }
 },
 "nbformat": 4,
 "nbformat_minor": 4
}
