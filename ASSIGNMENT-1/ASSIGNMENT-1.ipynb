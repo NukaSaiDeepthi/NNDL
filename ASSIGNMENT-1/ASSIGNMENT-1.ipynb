{
 "cells": [
  {
   "cell_type": "code",
   "execution_count": 11,
   "metadata": {},
   "outputs": [
    {
     "name": "stdout",
     "output_type": "stream",
     "text": [
      "iterations 1\n",
      "x value is 0.15177015799856197\n",
      "iterations 2\n",
      "x value is 0.05930970269209518\n",
      "iterations 3\n",
      "x value is 0.023640428984034872\n",
      "iterations 4\n",
      "x value is 0.00945088682410606\n",
      "iterations 5\n",
      "x value is 0.0037800170711487736\n",
      "iterations 6\n",
      "x value is 0.001511985224106005\n",
      "iterations 7\n",
      "x value is 0.0006047927070230462\n",
      "iterations 8\n",
      "x value is 0.00024191699432218655\n",
      "iterations 9\n",
      "x value is 9.676679206571079e-05\n",
      "iterations 10\n",
      "x value is 3.870671646384189e-05\n",
      "iterations 11\n",
      "x value is 1.5482686562340446e-05\n",
      "iterations 12\n",
      "x value is 6.193074623451613e-06\n",
      "iterations 13\n",
      "x value is 2.477229849285633e-06\n",
      "iterations 14\n",
      "x value is 9.908919397081723e-07\n",
      "iterations 15\n",
      "x value is 3.9635677588287963e-07\n",
      "iterations 16\n",
      "x value is 1.5854271035312692e-07\n",
      "iterations 17\n",
      "x value is 6.341708414124917e-08\n",
      "iterations 18\n",
      "x value is 2.5366833656499564e-08\n",
      "iterations 19\n",
      "x value is 1.014673346259982e-08\n",
      "iterations 20\n",
      "x value is 4.0586933850399274e-09\n",
      "iterations 21\n",
      "x value is 1.6234773540159708e-09\n",
      "iterations 22\n",
      "x value is 6.493909416063883e-10\n",
      "iterations 23\n",
      "x value is 2.597563766425553e-10\n",
      "iterations 24\n",
      "x value is 1.0390255065702213e-10\n",
      "iterations 25\n",
      "x value is 4.156102026280884e-11\n",
      "the  minimum point occurs at  4.156102026280884e-11\n",
      "the value of f(x)= 10.0\n"
     ]
    }
   ],
   "source": [
    "import random\n",
    "x_i = random.random()\n",
    "n = 0.1\n",
    "eps = 0.0000000001\n",
    "del_x = 1\n",
    "epochs = 1000\n",
    "iters = 0\n",
    "def f(x) :\n",
    "    f_x = x**4 +3*x**2 +10\n",
    "    return f_x\n",
    "def deriv(x) :\n",
    "    x_deriv = 4*(x**3)+6*x\n",
    "    return x_deriv\n",
    "while abs(del_x) > eps and iters < epochs :\n",
    "    del_x = -n * deriv(x_i)\n",
    "    x_i = x_i + del_x\n",
    "    iters = iters + 1\n",
    "    print(\"iterations\",iters)\n",
    "    print(\"x value is\",x_i)\n",
    "    \n",
    "print(\"the  minimum point occurs at \",x_i)\n",
    "print(\"the value of f(x)=\",f(x_i))"
   ]
  },
  {
   "cell_type": "code",
   "execution_count": null,
   "metadata": {},
   "outputs": [],
   "source": []
  }
 ],
 "metadata": {
  "kernelspec": {
   "display_name": "Python 3",
   "language": "python",
   "name": "python3"
  },
  "language_info": {
   "codemirror_mode": {
    "name": "ipython",
    "version": 3
   },
   "file_extension": ".py",
   "mimetype": "text/x-python",
   "name": "python",
   "nbconvert_exporter": "python",
   "pygments_lexer": "ipython3",
   "version": "3.8.3"
  }
 },
 "nbformat": 4,
 "nbformat_minor": 4
}
