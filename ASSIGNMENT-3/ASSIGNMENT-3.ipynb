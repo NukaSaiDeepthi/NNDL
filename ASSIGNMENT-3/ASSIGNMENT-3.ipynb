{
 "cells": [
  {
   "cell_type": "markdown",
   "metadata": {},
   "source": [
    "# STOCHASTIC GRADIENT DESCENT"
   ]
  },
  {
   "cell_type": "code",
   "execution_count": 25,
   "metadata": {},
   "outputs": [],
   "source": [
    "import numpy as np\n",
    "import pandas as pd\n",
    "import matplotlib.pyplot as plt"
   ]
  },
  {
   "cell_type": "code",
   "execution_count": 34,
   "metadata": {},
   "outputs": [
    {
     "data": {
      "text/plain": [
       "array([[0.2, 3.4],\n",
       "       [0.4, 3.8],\n",
       "       [0.6, 4.2],\n",
       "       [0.8, 4.6]])"
      ]
     },
     "execution_count": 34,
     "metadata": {},
     "output_type": "execute_result"
    }
   ],
   "source": [
    "d = [[0.2,3.4],\n",
    "     [0.4,3.8],\n",
    "     [0.6,4.2],\n",
    "     [0.8,4.6]]\n",
    "d = np.array(d)\n",
    "d"
   ]
  },
  {
   "cell_type": "markdown",
   "metadata": {},
   "source": [
    "STEP 1: Reading data x and y"
   ]
  },
  {
   "cell_type": "code",
   "execution_count": 35,
   "metadata": {},
   "outputs": [],
   "source": [
    "d_x = []\n",
    "d_y = []\n",
    "for i in range(0,len(d)):\n",
    "    d_x.append(d[i][0])\n",
    "for i in range(0,len(d)):\n",
    "    d_y.append(d[i][1])\n",
    "d_x = np.array(d_x)\n",
    "d_y = np.array(d_y)"
   ]
  },
  {
   "cell_type": "markdown",
   "metadata": {},
   "source": [
    "STEP 2: initialising required parameters"
   ]
  },
  {
   "cell_type": "code",
   "execution_count": 36,
   "metadata": {},
   "outputs": [],
   "source": [
    "m = 1\n",
    "c = -1\n",
    "iter = 1\n",
    "epochs = 10000\n",
    "alpha = 0.1\n",
    "ns = len(d)\n",
    "error = []"
   ]
  },
  {
   "cell_type": "code",
   "execution_count": 37,
   "metadata": {},
   "outputs": [],
   "source": [
    "# while loop is runned until iter reaches epochs\n",
    "while (iter<=epochs):\n",
    "  # running for loop to calculate and update model parameters for each sample\n",
    "  for i in range(0,len(d)):\n",
    "\n",
    "    # calculating error and storing in an list\n",
    "    err = (0.5) * ((d_y[i] - (m * d_x[i]) - c))**2\n",
    "    error.append(err)\n",
    "\n",
    "    # calculating derivatives of m and c\n",
    "    der_m = (-1) * ((d_y[i] - (m * d_x[i]) - c ))*(d_x[i])\n",
    "    der_c = (-1) * (d_y[i] - (m * d_x[i]) - c )\n",
    "\n",
    "    # calculating change in m and c\n",
    "    change_m = (-1)*alpha*der_m\n",
    "    change_c = (-1)*alpha*der_c\n",
    "\n",
    "    #updating m and c\n",
    "    m = m + change_m\n",
    "    c = c + change_c\n",
    "\n",
    "    #incrementing no of iterations\n",
    "    iter = iter + 1"
   ]
  },
  {
   "cell_type": "code",
   "execution_count": 38,
   "metadata": {},
   "outputs": [
    {
     "name": "stdout",
     "output_type": "stream",
     "text": [
      "2.0000000000000426 2.9999999999999756\n"
     ]
    }
   ],
   "source": [
    "print(m,c)"
   ]
  },
  {
   "cell_type": "code",
   "execution_count": 39,
   "metadata": {},
   "outputs": [
    {
     "data": {
      "text/plain": [
       "9.929786644469486e-29"
      ]
     },
     "execution_count": 39,
     "metadata": {},
     "output_type": "execute_result"
    }
   ],
   "source": [
    "# computing mean squared error\n",
    "mse = 0\n",
    "for i in range(0,len(data_x)):\n",
    "    mse += (data_y[i] - (m*data_x[i]) - c)**2\n",
    "mse = mse/len(data)\n",
    "mse\n",
    "\n",
    "# error rate is minimised (in the form of exponential )"
   ]
  },
  {
   "cell_type": "code",
   "execution_count": 40,
   "metadata": {},
   "outputs": [
    {
     "data": {
      "text/plain": [
       "[3.3999999999999844, 3.7999999999999927, 4.200000000000001, 4.60000000000001]"
      ]
     },
     "execution_count": 40,
     "metadata": {},
     "output_type": "execute_result"
    }
   ],
   "source": [
    "pred = []\n",
    "for i in range(0,len(data)):\n",
    "    pred.append(m*data_x[i] + c)\n",
    "pred"
   ]
  },
  {
   "cell_type": "code",
   "execution_count": 41,
   "metadata": {},
   "outputs": [
    {
     "data": {
      "image/png": "[encoded data removed]",
      "text/plain": [
       "<Figure size 432x288 with 1 Axes>"
      ]
     },
     "metadata": {
      "needs_background": "light"
     },
     "output_type": "display_data"
    }
   ],
   "source": [
    "plt.plot(data_x,data_y,'-',label=\"original data\")\n",
    "plt.scatter(data_x,pred,color='r',label=\"predicted data\")\n",
    "plt.grid()\n",
    "plt.title(\"Linear Regression using Stochastic Gradient Descent\")\n",
    "plt.xlabel(\"data x\")\n",
    "plt.ylabel(\"data y\")\n",
    "plt.legend()\n",
    "plt.show()"
   ]
  },
  {
   "cell_type": "code",
   "execution_count": null,
   "metadata": {},
   "outputs": [],
   "source": []
  }
 ],
 "metadata": {
  "kernelspec": {
   "display_name": "Python 3",
   "language": "python",
   "name": "python3"
  },
  "language_info": {
   "codemirror_mode": {
    "name": "ipython",
    "version": 3
   },
   "file_extension": ".py",
   "mimetype": "text/x-python",
   "name": "python",
   "nbconvert_exporter": "python",
   "pygments_lexer": "ipython3",
   "version": "3.8.3"
  }
 },
 "nbformat": 4,
 "nbformat_minor": 4
}
