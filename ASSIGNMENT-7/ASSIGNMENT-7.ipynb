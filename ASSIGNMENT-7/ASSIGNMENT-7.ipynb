{
 "cells": [
  {
   "cell_type": "markdown",
   "metadata": {},
   "source": [
    "# BATCH GRADIENT DESCENT"
   ]
  },
  {
   "cell_type": "code",
   "execution_count": 3,
   "metadata": {},
   "outputs": [],
   "source": [
    "import pandas as pd\n",
    "import numpy as np\n",
    "import random\n",
    "import matplotlib.pyplot as plt"
   ]
  },
  {
   "cell_type": "code",
   "execution_count": 4,
   "metadata": {},
   "outputs": [
    {
     "data": {
      "text/plain": [
       "[[0.2, 3.4], [0.4, 3.8], [0.6, 4.2], [0.8, 4.6]]"
      ]
     },
     "execution_count": 4,
     "metadata": {},
     "output_type": "execute_result"
    }
   ],
   "source": [
    "d = [[0.2,3.4],\n",
    "     [0.4,3.8],\n",
    "     [0.6,4.2],\n",
    "     [0.8,4.6]] \n",
    "d"
   ]
  },
  {
   "cell_type": "code",
   "execution_count": 5,
   "metadata": {},
   "outputs": [],
   "source": [
    "d_x = []\n",
    "d_y = []\n",
    "for i in range(len(d)):\n",
    "    d_x.append(d[i][0])\n",
    "    d_y.append(d[i][1])\n",
    "d_x = np.array(d_x)\n",
    "d_y = np.array(d_y)"
   ]
  },
  {
   "cell_type": "markdown",
   "metadata": {},
   "source": [
    "INITIALIZING REQUIRED PARAMETERS"
   ]
  },
  {
   "cell_type": "code",
   "execution_count": 6,
   "metadata": {},
   "outputs": [],
   "source": [
    "m = 1\n",
    "c = -1\n",
    "iter = 1\n",
    "epochs = 10000\n",
    "alpha = 0.1\n",
    "ns = len(d)\n",
    "error = []"
   ]
  },
  {
   "cell_type": "code",
   "execution_count": null,
   "metadata": {},
   "outputs": [],
   "source": []
  },
  {
   "cell_type": "code",
   "execution_count": 8,
   "metadata": {},
   "outputs": [
    {
     "name": "stdout",
     "output_type": "stream",
     "text": [
      "2.000000000000064 2.999999999999966\n"
     ]
    }
   ],
   "source": [
    "# while loop is runned until iter reaches epochs\n",
    "while (iter<=epochs):\n",
    "  # running for loop to calculate and update model parameters for each sample\n",
    "    der_m = 0\n",
    "    der_c = 0\n",
    "    err = 0\n",
    "    for i in range(0,len(d)):\n",
    "    # calculating derivatives of m and c\n",
    "        der_m += ((d_y[i] - (m * d_x[i]) - c ))*(d_x[i])\n",
    "        der_c +=  (d_y[i] - (m * d_x[i]) - c )\n",
    "  # computing error rate with present m and c values \n",
    "  # err = (der_c)**2\n",
    "  # err = (err)/(2*ns)\n",
    "  # error.append(err)\n",
    "    der_m = (-1)*(1/ns)*der_m\n",
    "    der_c = (-1)*(1/ns)*der_c\n",
    "  # calculating change in m and c\n",
    "    change_m = (-1)*alpha*der_m\n",
    "    change_c = (-1)*alpha*der_c\n",
    "  #updating m and c\n",
    "    m = m + change_m\n",
    "    c = c + change_c\n",
    "  #incrementing no of iterations\n",
    "    iter = iter + 1\n",
    "print(m,c)"
   ]
  },
  {
   "cell_type": "markdown",
   "metadata": {},
   "source": [
    "Predictions of training data"
   ]
  },
  {
   "cell_type": "code",
   "execution_count": 12,
   "metadata": {},
   "outputs": [
    {
     "name": "stdout",
     "output_type": "stream",
     "text": [
      "predicted  original\n"
     ]
    },
    {
     "data": {
      "text/plain": [
       "[3.3999999999999786, 3.7999999999999914, 4.200000000000005, 4.600000000000017]"
      ]
     },
     "execution_count": 12,
     "metadata": {},
     "output_type": "execute_result"
    }
   ],
   "source": [
    "pred = []\n",
    "print(\"predicted\",\" original\")\n",
    "for i in range(0,len(d)):\n",
    "    pred.append(m*d_x[i]+c)\n",
    "pred"
   ]
  },
  {
   "cell_type": "code",
   "execution_count": null,
   "metadata": {},
   "outputs": [],
   "source": []
  },
  {
   "cell_type": "code",
   "execution_count": 13,
   "metadata": {},
   "outputs": [
    {
     "data": {
      "image/png": "[encoded data removed]",
      "text/plain": [
       "<Figure size 432x288 with 1 Axes>"
      ]
     },
     "metadata": {
      "needs_background": "light"
     },
     "output_type": "display_data"
    }
   ],
   "source": [
    "plt.scatter(d_x,d_y,label=\"Original Data points\")\n",
    "plt.plot(d_x,pred,'r',label=\"predicted regression line\")\n",
    "plt.title(\"Linear Regression using Batch Gradient Descent\")\n",
    "plt.xlabel(\"X Data\")\n",
    "plt.ylabel(\"Y Data\")\n",
    "plt.grid()\n",
    "plt.legend()\n",
    "plt.show()"
   ]
  },
  {
   "cell_type": "code",
   "execution_count": 16,
   "metadata": {},
   "outputs": [
    {
     "data": {
      "text/plain": [
       "2.103793426611286e-28"
      ]
     },
     "execution_count": 16,
     "metadata": {},
     "output_type": "execute_result"
    }
   ],
   "source": [
    "# computing mean squared error\n",
    "# minimised error in terms of exponential form\n",
    "mse = 0\n",
    "for i in range(0,len(d_x)):\n",
    "    mse += (d_y[i] - (m*d_x[i]) - c)**2\n",
    "mse = mse/len(d)\n",
    "mse"
   ]
  },
  {
   "cell_type": "code",
   "execution_count": null,
   "metadata": {},
   "outputs": [],
   "source": []
  }
 ],
 "metadata": {
  "kernelspec": {
   "display_name": "Python 3",
   "language": "python",
   "name": "python3"
  },
  "language_info": {
   "codemirror_mode": {
    "name": "ipython",
    "version": 3
   },
   "file_extension": ".py",
   "mimetype": "text/x-python",
   "name": "python",
   "nbconvert_exporter": "python",
   "pygments_lexer": "ipython3",
   "version": "3.8.3"
  }
 },
 "nbformat": 4,
 "nbformat_minor": 4
}
