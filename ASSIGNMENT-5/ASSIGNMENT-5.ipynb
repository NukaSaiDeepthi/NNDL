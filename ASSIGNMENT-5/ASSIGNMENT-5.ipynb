{
 "cells": [
  {
   "cell_type": "markdown",
   "metadata": {},
   "source": [
    "# MINI BATCH GRADIENT DESCENT"
   ]
  },
  {
   "cell_type": "code",
   "execution_count": 1,
   "metadata": {},
   "outputs": [],
   "source": [
    "import pandas as pd\n",
    "import numpy as np\n",
    "import random\n",
    "import matplotlib.pyplot as plt"
   ]
  },
  {
   "cell_type": "code",
   "execution_count": 2,
   "metadata": {},
   "outputs": [
    {
     "data": {
      "text/plain": [
       "[[0.2, 3.4], [0.4, 3.8], [0.6, 4.2], [0.8, 4.6]]"
      ]
     },
     "execution_count": 2,
     "metadata": {},
     "output_type": "execute_result"
    }
   ],
   "source": [
    "d = [[0.2,3.4],\n",
    "     [0.4,3.8],\n",
    "     [0.6,4.2],\n",
    "     [0.8,4.6]] \n",
    "d"
   ]
  },
  {
   "cell_type": "code",
   "execution_count": 3,
   "metadata": {},
   "outputs": [],
   "source": [
    "d_x = []\n",
    "d_y = []\n",
    "for i in range(len(d)):\n",
    "    d_x.append(d[i][0])\n",
    "    d_y.append(d[i][1])\n",
    "d_x = np.array(d_x)\n",
    "d_y = np.array(d_y)"
   ]
  },
  {
   "cell_type": "markdown",
   "metadata": {},
   "source": [
    "INITIALISING BATCH SIZE AND CALCULATING NUMBER OF BATCHES"
   ]
  },
  {
   "cell_type": "code",
   "execution_count": 4,
   "metadata": {},
   "outputs": [
    {
     "data": {
      "text/plain": [
       "2.0"
      ]
     },
     "execution_count": 4,
     "metadata": {},
     "output_type": "execute_result"
    }
   ],
   "source": [
    "bs = 2\n",
    "nb = (len(d)/bs)\n",
    "nb"
   ]
  },
  {
   "cell_type": "code",
   "execution_count": 5,
   "metadata": {},
   "outputs": [
    {
     "data": {
      "text/plain": [
       "array([2, 0, 3, 1])"
      ]
     },
     "execution_count": 5,
     "metadata": {},
     "output_type": "execute_result"
    }
   ],
   "source": [
    "samples = np.arange(len(d))\n",
    "random.shuffle(samples)\n",
    "samples"
   ]
  },
  {
   "cell_type": "code",
   "execution_count": 6,
   "metadata": {},
   "outputs": [
    {
     "name": "stdout",
     "output_type": "stream",
     "text": [
      "0.6 4.2\n",
      "0.2 3.4\n",
      "0.8 4.6\n",
      "0.4 3.8\n"
     ]
    }
   ],
   "source": [
    "for i in samples:\n",
    "    print(d_x[i],d_y[i])"
   ]
  },
  {
   "cell_type": "markdown",
   "metadata": {},
   "source": [
    "INITIALISING ALL REQUIRED PARAMETERS"
   ]
  },
  {
   "cell_type": "code",
   "execution_count": 7,
   "metadata": {},
   "outputs": [],
   "source": [
    "m = 1\n",
    "c = -1\n",
    "iter = 1\n",
    "epochs = 10000\n",
    "batch = nb - 1\n",
    "bat = 1\n",
    "alpha = 0.1"
   ]
  },
  {
   "cell_type": "code",
   "execution_count": 8,
   "metadata": {},
   "outputs": [
    {
     "name": "stdout",
     "output_type": "stream",
     "text": [
      "2.000000000000064 2.999999999999966\n"
     ]
    }
   ],
   "source": [
    "while (iter<=epochs):\n",
    "    i = 0\n",
    "  # RUNNING ITERATION FOR N-1 BATCHES\n",
    "    while (bat <= batch):\n",
    "        der_m = 0\n",
    "        der_c = 0\n",
    "        err = 0\n",
    "        for k in range(0,bs):\n",
    "            der_m = der_m + (d_y[samples[i]] - (m*d_x[samples[i]])-c)*(d_x[samples[i]])\n",
    "            der_c = der_c + (d_y[samples[i]] - (m*d_x[samples[i]])-c)\n",
    "            i = i+1\n",
    "    # err = der_c**2\n",
    "    # err = (1/(2*bs))*err\n",
    "    # error.append(err)\n",
    "        der_m = (1/bs)*der_m\n",
    "        der_c = (1/bs)*der_c\n",
    "        change_m = (-1)*alpha*der_m\n",
    "        change_c = (-1)*alpha*der_c\n",
    "        m = m + change_m\n",
    "        c = c + change_c\n",
    "        bat = bat + 1\n",
    "    \n",
    "    # EXECUTING FOR LAST BATCH\n",
    "    der_m = 0\n",
    "    der_c = 0\n",
    "    err = 0\n",
    "  # FINDING REMAINING NUMBER OF BATCHES\n",
    "    es = len(samples) - i  \n",
    "  \n",
    "    for k in range(i,len(samples)):\n",
    "        der_m = der_m + (d_y[samples[i]] - (m*d_x[samples[i]])-c)*(d_x[samples[i]])\n",
    "        der_c = der_c + (d_y[samples[i]] - (m*d_x[samples[i]])-c)\n",
    "        i = i + 1\n",
    "    der_m = (-1/es)*der_m\n",
    "    der_c = (-1/es)*der_c\n",
    "  \n",
    "    change_m = (-1)*alpha*der_m\n",
    "    change_c = (-1)*alpha*der_c\n",
    "  \n",
    "    m = m + change_m\n",
    "    c = c + change_c\n",
    "  \n",
    "    iter = iter + 1\n",
    "\n",
    "print(m,c)"
   ]
  },
  {
   "cell_type": "markdown",
   "metadata": {},
   "source": [
    "PREDICTING THE OUTPUT FOR TRAINING DATA"
   ]
  },
  {
   "cell_type": "code",
   "execution_count": 9,
   "metadata": {},
   "outputs": [
    {
     "data": {
      "text/plain": [
       "[3.3999999999999786, 3.7999999999999914, 4.200000000000005, 4.600000000000017]"
      ]
     },
     "execution_count": 9,
     "metadata": {},
     "output_type": "execute_result"
    }
   ],
   "source": [
    "pred = []\n",
    "for i in range(0,len(d)):\n",
    "    pred.append(m*d_x[i] + c)\n",
    "pred"
   ]
  },
  {
   "cell_type": "code",
   "execution_count": 10,
   "metadata": {},
   "outputs": [
    {
     "data": {
      "text/plain": [
       "3.7999999999999914"
      ]
     },
     "execution_count": 10,
     "metadata": {},
     "output_type": "execute_result"
    }
   ],
   "source": [
    "m*0.4 + c"
   ]
  },
  {
   "cell_type": "code",
   "execution_count": 11,
   "metadata": {},
   "outputs": [
    {
     "data": {
      "text/plain": [
       "2.103793426611286e-28"
      ]
     },
     "execution_count": 11,
     "metadata": {},
     "output_type": "execute_result"
    }
   ],
   "source": [
    "# MEAN SQUARE ERROR IN EXPONENTIAL FORM\n",
    "# MINIMISED ERROR\n",
    "mse = 0\n",
    "for i in range(0,len(d)):\n",
    "    mse += (d_y[i] - (m*d_x[i]) -c)**2\n",
    "mse = (1/len(d))*mse\n",
    "mse"
   ]
  },
  {
   "cell_type": "code",
   "execution_count": 13,
   "metadata": {},
   "outputs": [
    {
     "data": {
      "image/png": "[encoded data removed]",
      "text/plain": [
       "<Figure size 432x288 with 1 Axes>"
      ]
     },
     "metadata": {
      "needs_background": "light"
     },
     "output_type": "display_data"
    }
   ],
   "source": [
    "# PLOTTING OF DATA\n",
    "plt.scatter(d_x,d_y,label='Original Data Points')\n",
    "plt.plot(d_x,pred,'red',label='Predicted Regression Line')\n",
    "plt.legend()\n",
    "plt.title(\"Linear Regression using Mini Batch Gradient Descent\")\n",
    "plt.xlabel(\"X DATA\")\n",
    "plt.ylabel(\"Y DATA\")\n",
    "plt.grid()"
   ]
  },
  {
   "cell_type": "code",
   "execution_count": null,
   "metadata": {},
   "outputs": [],
   "source": []
  }
 ],
 "metadata": {
  "kernelspec": {
   "display_name": "Python 3",
   "language": "python",
   "name": "python3"
  },
  "language_info": {
   "codemirror_mode": {
    "name": "ipython",
    "version": 3
   },
   "file_extension": ".py",
   "mimetype": "text/x-python",
   "name": "python",
   "nbconvert_exporter": "python",
   "pygments_lexer": "ipython3",
   "version": "3.8.3"
  }
 },
 "nbformat": 4,
 "nbformat_minor": 4
}
