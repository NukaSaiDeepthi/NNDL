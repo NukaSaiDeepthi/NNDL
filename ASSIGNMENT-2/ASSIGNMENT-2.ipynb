{
 "cells": [
  {
   "cell_type": "markdown",
   "metadata": {},
   "source": [
    "STEP 1: Initialising Varibles"
   ]
  },
  {
   "cell_type": "code",
   "execution_count": 1,
   "metadata": {},
   "outputs": [],
   "source": [
    "x = -1\n",
    "y = 1\n",
    "epochs = 100\n",
    "alpha = 0.1"
   ]
  },
  {
   "cell_type": "markdown",
   "metadata": {},
   "source": [
    "function to calculate derivation of x"
   ]
  },
  {
   "cell_type": "code",
   "execution_count": 2,
   "metadata": {},
   "outputs": [],
   "source": [
    "def der_x(x):\n",
    "    val = 2*x\n",
    "    return val\n",
    "def der_y(y):\n",
    "    val = 2*y\n",
    "    return val"
   ]
  },
  {
   "cell_type": "markdown",
   "metadata": {},
   "source": [
    "STEP 2:initialising number of current iteration to 1"
   ]
  },
  {
   "cell_type": "code",
   "execution_count": 3,
   "metadata": {},
   "outputs": [],
   "source": [
    "iter = 1"
   ]
  },
  {
   "cell_type": "markdown",
   "metadata": {},
   "source": [
    "STEP 3: implementing Descent code"
   ]
  },
  {
   "cell_type": "code",
   "execution_count": 4,
   "metadata": {},
   "outputs": [],
   "source": [
    "while (iter<=epochs):\n",
    "    df_dx = der_x(x)\n",
    "    df_dy = der_y(y)\n",
    "  # STEP 4: calculating change in x and y\n",
    "    change_x = (-1)*alpha*df_dx\n",
    "    change_y = (-1)*alpha*df_dy\n",
    "  # STEP 5: updating model parameters x and y\n",
    "    x = x + change_x\n",
    "    y = y + change_y\n",
    "\n",
    "  # STEP 6: incrementing no of iterations\n",
    "    iter = iter + 1"
   ]
  },
  {
   "cell_type": "markdown",
   "metadata": {},
   "source": [
    "STEP 7: printing m and c (GLOBAL MIN POINT)"
   ]
  },
  {
   "cell_type": "code",
   "execution_count": 5,
   "metadata": {},
   "outputs": [
    {
     "name": "stdout",
     "output_type": "stream",
     "text": [
      "-2.0370359763344877e-10 2.0370359763344877e-10\n"
     ]
    }
   ],
   "source": [
    "print(x,y)"
   ]
  },
  {
   "cell_type": "code",
   "execution_count": 6,
   "metadata": {},
   "outputs": [
    {
     "name": "stdout",
     "output_type": "stream",
     "text": [
      "10.0\n"
     ]
    }
   ],
   "source": [
    "# function to predict f(x)\n",
    "def f(x,y):\n",
    "    val = (x**2)+(y**2)+10\n",
    "    return val\n",
    "# printing global minimum value for given f(X,y) function or curve\n",
    "print(f(x,y))"
   ]
  },
  {
   "cell_type": "code",
   "execution_count": null,
   "metadata": {},
   "outputs": [],
   "source": []
  }
 ],
 "metadata": {
  "kernelspec": {
   "display_name": "Python 3",
   "language": "python",
   "name": "python3"
  },
  "language_info": {
   "codemirror_mode": {
    "name": "ipython",
    "version": 3
   },
   "file_extension": ".py",
   "mimetype": "text/x-python",
   "name": "python",
   "nbconvert_exporter": "python",
   "pygments_lexer": "ipython3",
   "version": "3.8.3"
  }
 },
 "nbformat": 4,
 "nbformat_minor": 4
}
